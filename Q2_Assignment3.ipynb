{
 "cells": [
  {
   "cell_type": "code",
   "execution_count": 22,
   "id": "07d6f986",
   "metadata": {},
   "outputs": [],
   "source": [
    "import numpy as np\n",
    "\n",
    "# Define the function\n",
    "def f(x1, x2):\n",
    "    return np.sin(2 * np.pi * x1) * np.cos(0.5 * np.pi * x2) * np.exp(-x1**2)\n",
    "\n",
    "# Generate random input data\n",
    "np.random.seed(0)  # for reproducibility\n",
    "num_data = 500\n",
    "x1 = np.random.uniform(-1, 1, num_data)\n",
    "x2 = np.random.uniform(-4, 4, num_data)\n",
    "\n",
    "# Calculate outputs\n",
    "y = f(x1, x2)\n",
    "\n",
    "# Split data into training and testing sets (70% training, 30% testing)\n",
    "train_ratio = 0.7\n",
    "num_train = int(train_ratio * num_data)\n",
    "\n",
    "x1_train, x2_train = x1[:num_train], x2[:num_train]\n",
    "y_train = y[:num_train]\n",
    "\n",
    "x1_test, x2_test = x1[num_train:], x2[num_train:]\n",
    "y_test = y[num_train:]\n"
   ]
  },
  {
   "cell_type": "code",
   "execution_count": 23,
   "id": "6ef7c49b",
   "metadata": {},
   "outputs": [
    {
     "name": "stdout",
     "output_type": "stream",
     "text": [
      "Training Error: 0.1429066166991227\n",
      "Testing Error: 0.15745951829401458\n"
     ]
    }
   ],
   "source": [
    "from sklearn.neural_network import MLPRegressor\n",
    "from sklearn.metrics import mean_squared_error\n",
    "\n",
    "# Create MLP with 1 hidden layer and 4 neurons\n",
    "mlp = MLPRegressor(hidden_layer_sizes=(4,), activation='relu', solver='adam', max_iter=1000, random_state=1)\n",
    "\n",
    "# Train the MLP\n",
    "mlp.fit(np.column_stack((x1_train, x2_train)), y_train)\n",
    "\n",
    "# Predictions on training set\n",
    "train_predictions = mlp.predict(np.column_stack((x1_train, x2_train)))\n",
    "train_error = mean_squared_error(y_train, train_predictions)\n",
    "\n",
    "# Predictions on testing set\n",
    "test_predictions = mlp.predict(np.column_stack((x1_test, x2_test)))\n",
    "test_error = mean_squared_error(y_test, test_predictions)\n",
    "\n",
    "print(\"Training Error:\", train_error)\n",
    "print(\"Testing Error:\", test_error)\n"
   ]
  },
  {
   "cell_type": "code",
   "execution_count": 24,
   "id": "2664cda0",
   "metadata": {},
   "outputs": [
    {
     "name": "stdout",
     "output_type": "stream",
     "text": [
      "Hidden Neurons: 2\n",
      "Training Error: 0.18476386205303447\n",
      "Testing Error: 0.17646928869476639\n",
      "Hidden Neurons: 6\n",
      "Training Error: 0.1398216647403543\n",
      "Testing Error: 0.15445073631754955\n",
      "Hidden Neurons: 8\n",
      "Training Error: 0.14565641419897893\n",
      "Testing Error: 0.15405105236848388\n",
      "Hidden Neurons: 12\n",
      "Training Error: 0.13504018051498862\n",
      "Testing Error: 0.143962633775065\n",
      "Hidden Neurons: 20\n",
      "Training Error: 0.13877964711850074\n",
      "Testing Error: 0.1513921548078379\n"
     ]
    }
   ],
   "source": [
    "hidden_neurons = [2, 6, 8, 12, 20]\n",
    "for neurons in hidden_neurons:\n",
    "    mlp = MLPRegressor(hidden_layer_sizes=(neurons,), activation='relu', solver='adam', max_iter=1000, random_state=1)\n",
    "    mlp.fit(np.column_stack((x1_train, x2_train)), y_train)\n",
    "    train_predictions = mlp.predict(np.column_stack((x1_train, x2_train)))\n",
    "    test_predictions = mlp.predict(np.column_stack((x1_test, x2_test)))\n",
    "    train_error = mean_squared_error(y_train, train_predictions)\n",
    "    test_error = mean_squared_error(y_test, test_predictions)\n",
    "    print(\"Hidden Neurons:\", neurons)\n",
    "    print(\"Training Error:\", train_error)\n",
    "    print(\"Testing Error:\", test_error)\n"
   ]
  },
  {
   "cell_type": "code",
   "execution_count": null,
   "id": "d520bf8f",
   "metadata": {},
   "outputs": [],
   "source": []
  }
 ],
 "metadata": {
  "kernelspec": {
   "display_name": "Python 3 (ipykernel)",
   "language": "python",
   "name": "python3"
  },
  "language_info": {
   "codemirror_mode": {
    "name": "ipython",
    "version": 3
   },
   "file_extension": ".py",
   "mimetype": "text/x-python",
   "name": "python",
   "nbconvert_exporter": "python",
   "pygments_lexer": "ipython3",
   "version": "3.11.5"
  }
 },
 "nbformat": 4,
 "nbformat_minor": 5
}
